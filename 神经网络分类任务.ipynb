{
 "cells": [
  {
   "cell_type": "markdown",
   "metadata": {},
   "source": [
    "### Mnist分类任务：\n",
    "\n",
    "- 网络基本构建与训练方法，常用函数解析\n",
    "\n",
    "- torch.nn.functional模块\n",
    "\n",
    "- nn.Module模块\n"
   ]
  },
  {
   "cell_type": "markdown",
   "metadata": {},
   "source": [
    "### 读取Mnist数据集\n",
    "- 会自动进行下载"
   ]
  },
  {
   "cell_type": "code",
   "execution_count": 41,
   "metadata": {
    "collapsed": true
   },
   "outputs": [],
   "source": [
    "%matplotlib inline"
   ]
  },
  {
   "cell_type": "code",
   "execution_count": 2,
   "metadata": {
    "collapsed": true
   },
   "outputs": [],
   "source": [
    "from pathlib import Path\n",
    "import requests\n",
    "\n",
    "DATA_PATH = Path(\"data\")\n",
    "PATH = DATA_PATH / \"mnist\"\n",
    "\n",
    "PATH.mkdir(parents=True, exist_ok=True)\n",
    "\n",
    "URL = \"http://deeplearning.net/data/mnist/\"\n",
    "FILENAME = \"mnist.pkl.gz\"\n",
    "\n",
    "if not (PATH / FILENAME).exists():\n",
    "        content = requests.get(URL + FILENAME).content\n",
    "        (PATH / FILENAME).open(\"wb\").write(content)"
   ]
  },
  {
   "cell_type": "code",
   "execution_count": 3,
   "metadata": {
    "collapsed": true
   },
   "outputs": [],
   "source": [
    "import pickle\n",
    "import gzip\n",
    "\n",
    "with gzip.open((PATH / FILENAME).as_posix(), \"rb\") as f:\n",
    "        ((x_train, y_train), (x_valid, y_valid), _) = pickle.load(f, encoding=\"latin-1\")"
   ]
  },
  {
   "cell_type": "markdown",
   "metadata": {},
   "source": [
    "784是mnist数据集每个样本的像素点个数"
   ]
  },
  {
   "cell_type": "code",
   "execution_count": 8,
   "metadata": {},
   "outputs": [
    {
     "name": "stdout",
     "output_type": "stream",
     "text": [
      "(50000, 784)\n"
     ]
    },
    {
     "data": {
      "image/png": "[encoded data removed]",
      "text/plain": [
       "<Figure size 640x480 with 1 Axes>"
      ]
     },
     "metadata": {},
     "output_type": "display_data"
    }
   ],
   "source": [
    "from matplotlib import pyplot\n",
    "import numpy as np\n",
    "\n",
    "pyplot.imshow(x_train[0].reshape((28, 28)), cmap=\"gray\")\n",
    "print(x_train.shape)"
   ]
  },
  {
   "cell_type": "markdown",
   "metadata": {},
   "source": [
    "<img src=\"./img/4.png\" alt=\"FAO\" width=\"790\">"
   ]
  },
  {
   "cell_type": "markdown",
   "metadata": {},
   "source": [
    "<img src=\"./img/5.png\" alt=\"FAO\" width=\"790\">"
   ]
  },
  {
   "cell_type": "markdown",
   "metadata": {},
   "source": [
    "注意数据需转换成tensor才能参与后续建模训练\n"
   ]
  },
  {
   "cell_type": "code",
   "execution_count": 9,
   "metadata": {},
   "outputs": [
    {
     "name": "stdout",
     "output_type": "stream",
     "text": [
      "tensor([[0., 0., 0.,  ..., 0., 0., 0.],\n",
      "        [0., 0., 0.,  ..., 0., 0., 0.],\n",
      "        [0., 0., 0.,  ..., 0., 0., 0.],\n",
      "        ...,\n",
      "        [0., 0., 0.,  ..., 0., 0., 0.],\n",
      "        [0., 0., 0.,  ..., 0., 0., 0.],\n",
      "        [0., 0., 0.,  ..., 0., 0., 0.]]) tensor([5, 0, 4,  ..., 8, 4, 8])\n",
      "torch.Size([50000, 784])\n",
      "tensor(0) tensor(9)\n"
     ]
    }
   ],
   "source": [
    "import torch\n",
    "\n",
    "x_train, y_train, x_valid, y_valid = map(\n",
    "    torch.tensor, (x_train, y_train, x_valid, y_valid)\n",
    ")\n",
    "n, c = x_train.shape\n",
    "x_train, x_train.shape, y_train.min(), y_train.max()\n",
    "print(x_train, y_train)\n",
    "print(x_train.shape)\n",
    "print(y_train.min(), y_train.max())"
   ]
  },
  {
   "cell_type": "markdown",
   "metadata": {},
   "source": [
    "### torch.nn.functional 很多层和函数在这里都会见到\n",
    "\n",
    "torch.nn.functional中有很多功能，后续会常用的。那什么时候使用nn.Module，什么时候使用nn.functional呢？一般情况下，如果模型有可学习的参数，最好用nn.Module，其他情况nn.functional相对更简单一些"
   ]
  },
  {
   "cell_type": "code",
   "execution_count": 10,
   "metadata": {
    "collapsed": true
   },
   "outputs": [],
   "source": [
    "import torch.nn.functional as F\n",
    "\n",
    "loss_func = F.cross_entropy\n",
    "\n",
    "def model(xb):\n",
    "    return xb.mm(weights) + bias"
   ]
  },
  {
   "cell_type": "code",
   "execution_count": 11,
   "metadata": {},
   "outputs": [
    {
     "name": "stdout",
     "output_type": "stream",
     "text": [
      "tensor(10.9621, grad_fn=<NllLossBackward0>)\n"
     ]
    }
   ],
   "source": [
    "bs = 64\n",
    "xb = x_train[0:bs]  # a mini-batch from x\n",
    "yb = y_train[0:bs]\n",
    "weights = torch.randn([784, 10], dtype = torch.float,  requires_grad = True) \n",
    "bs = 64\n",
    "bias = torch.zeros(10, requires_grad=True)\n",
    "\n",
    "print(loss_func(model(xb), yb))"
   ]
  },
  {
   "cell_type": "markdown",
   "metadata": {},
   "source": [
    "### 创建一个model来更简化代码"
   ]
  },
  {
   "cell_type": "markdown",
   "metadata": {},
   "source": [
    "- 必须继承nn.Module且在其构造函数中需调用nn.Module的构造函数\n",
    "- 无需写反向传播函数，nn.Module能够利用autograd自动实现反向传播\n",
    "- Module中的可学习参数可以通过named_parameters()或者parameters()返回迭代器"
   ]
  },
  {
   "cell_type": "code",
   "execution_count": 12,
   "metadata": {
    "collapsed": true
   },
   "outputs": [],
   "source": [
    "from torch import nn\n",
    "\n",
    "class Mnist_NN(nn.Module):\n",
    "    def __init__(self):\n",
    "        super().__init__()\n",
    "        self.hidden1 = nn.Linear(784, 128)\n",
    "        self.hidden2 = nn.Linear(128, 256)\n",
    "        self.out  = nn.Linear(256, 10)\n",
    "\n",
    "    def forward(self, x):\n",
    "        x = F.relu(self.hidden1(x))\n",
    "        x = F.relu(self.hidden2(x))\n",
    "        x = self.out(x)\n",
    "        return x\n",
    "        "
   ]
  },
  {
   "cell_type": "code",
   "execution_count": 13,
   "metadata": {},
   "outputs": [
    {
     "name": "stdout",
     "output_type": "stream",
     "text": [
      "Mnist_NN(\n",
      "  (hidden1): Linear(in_features=784, out_features=128, bias=True)\n",
      "  (hidden2): Linear(in_features=128, out_features=256, bias=True)\n",
      "  (out): Linear(in_features=256, out_features=10, bias=True)\n",
      ")\n"
     ]
    }
   ],
   "source": [
    "net = Mnist_NN()\n",
    "print(net)\n"
   ]
  },
  {
   "cell_type": "markdown",
   "metadata": {},
   "source": [
    "可以打印我们定义好名字里的权重和偏置项"
   ]
  },
  {
   "cell_type": "code",
   "execution_count": 14,
   "metadata": {},
   "outputs": [
    {
     "name": "stdout",
     "output_type": "stream",
     "text": [
      "hidden1.weight Parameter containing:\n",
      "tensor([[ 0.0169,  0.0103,  0.0244,  ..., -0.0037, -0.0221,  0.0216],\n",
      "        [-0.0019,  0.0287, -0.0001,  ..., -0.0057, -0.0037, -0.0047],\n",
      "        [ 0.0278,  0.0094,  0.0112,  ...,  0.0122,  0.0027, -0.0117],\n",
      "        ...,\n",
      "        [ 0.0334, -0.0009,  0.0182,  ...,  0.0236,  0.0100, -0.0186],\n",
      "        [-0.0335,  0.0183, -0.0299,  ..., -0.0034,  0.0169, -0.0002],\n",
      "        [-0.0053, -0.0142,  0.0323,  ..., -0.0138,  0.0064,  0.0357]],\n",
      "       requires_grad=True) torch.Size([128, 784])\n",
      "hidden1.bias Parameter containing:\n",
      "tensor([-1.6876e-02,  1.1392e-02, -2.6193e-02,  2.7350e-02, -1.7508e-02,\n",
      "        -1.4435e-02,  2.8761e-03, -7.5188e-05, -7.5821e-03,  2.9562e-02,\n",
      "        -2.8642e-02, -6.8460e-03, -2.7500e-02, -2.2357e-02, -2.6775e-02,\n",
      "        -1.9233e-02,  8.4986e-03,  3.1707e-02, -1.4009e-02,  7.5103e-03,\n",
      "         1.3194e-02,  4.9821e-03, -1.3307e-02,  2.7417e-03, -2.1987e-02,\n",
      "        -1.2586e-02, -1.6870e-03,  1.5866e-02,  3.3104e-02, -2.8942e-04,\n",
      "         3.4938e-03,  3.2808e-02, -7.6124e-03, -1.7722e-02,  1.0739e-02,\n",
      "         6.7577e-03,  2.3555e-02, -2.8676e-03, -5.6524e-03,  5.0874e-03,\n",
      "        -4.9491e-03,  2.5337e-03, -3.3545e-02, -7.5971e-03,  5.6963e-03,\n",
      "        -6.1781e-03,  2.7671e-02, -1.3176e-02,  2.7935e-02, -2.6992e-02,\n",
      "         3.2235e-02,  3.5429e-02, -1.1117e-02, -3.0897e-02, -3.9880e-03,\n",
      "        -4.0684e-04, -3.3495e-02, -2.2616e-02, -2.2499e-02,  2.2535e-02,\n",
      "        -3.0543e-02, -1.5881e-02, -2.3399e-02,  7.1608e-03,  2.9124e-02,\n",
      "        -2.7393e-02, -2.0723e-02,  1.4711e-02,  6.2855e-03, -7.1842e-03,\n",
      "         2.6688e-02, -1.8159e-02, -1.5001e-02,  2.5468e-02,  1.9330e-02,\n",
      "         1.0809e-02, -3.6806e-04,  5.6813e-03, -2.2531e-02, -3.0625e-02,\n",
      "        -2.0244e-02,  1.7024e-02,  2.9179e-02, -2.1281e-02, -3.4536e-02,\n",
      "         1.1692e-02, -2.7664e-03, -1.0653e-02, -1.3428e-02, -1.2327e-02,\n",
      "        -1.6039e-02,  2.2464e-02, -1.7939e-03, -7.8092e-03, -4.7576e-03,\n",
      "         2.8294e-02,  8.9675e-03, -6.4440e-03,  1.6481e-02,  1.6167e-04,\n",
      "        -2.0353e-02,  6.1376e-03, -7.4250e-03, -2.8818e-02,  3.0421e-02,\n",
      "        -8.0901e-03, -2.5867e-03, -1.2865e-02, -2.7173e-02, -9.7635e-03,\n",
      "         1.4998e-02,  3.2608e-02, -2.3536e-02,  5.5055e-03,  3.1559e-02,\n",
      "        -1.4553e-02, -7.8187e-03,  1.4791e-02,  9.5830e-03, -3.3803e-02,\n",
      "        -1.9662e-02,  2.8108e-03,  2.1034e-02, -3.1083e-02, -2.6438e-02,\n",
      "        -8.4333e-03,  1.7600e-03, -1.6308e-02], requires_grad=True) torch.Size([128])\n",
      "hidden2.weight Parameter containing:\n",
      "tensor([[ 0.0727, -0.0805, -0.0567,  ...,  0.0012, -0.0076, -0.0509],\n",
      "        [ 0.0419,  0.0643, -0.0468,  ...,  0.0399, -0.0275, -0.0273],\n",
      "        [-0.0881, -0.0762, -0.0559,  ..., -0.0874, -0.0298,  0.0050],\n",
      "        ...,\n",
      "        [-0.0435,  0.0340,  0.0327,  ...,  0.0257,  0.0074,  0.0190],\n",
      "        [-0.0256, -0.0634,  0.0021,  ...,  0.0150, -0.0107, -0.0440],\n",
      "        [-0.0464, -0.0084,  0.0579,  ...,  0.0114,  0.0500,  0.0740]],\n",
      "       requires_grad=True) torch.Size([256, 128])\n",
      "hidden2.bias Parameter containing:\n",
      "tensor([ 4.4435e-02,  4.6853e-02,  6.7218e-03,  2.3998e-02,  1.3439e-02,\n",
      "        -4.0630e-02,  2.4275e-02, -1.6324e-02, -2.5522e-02,  9.7933e-03,\n",
      "        -1.7662e-02,  2.3575e-02, -6.5705e-03,  4.9366e-03, -6.8187e-02,\n",
      "         3.5654e-02,  5.8652e-02,  3.2838e-02,  7.4942e-04,  2.5917e-02,\n",
      "        -1.8544e-02, -4.4174e-02,  2.3507e-02, -3.9407e-02,  7.9667e-02,\n",
      "        -6.5246e-02, -8.4782e-02, -6.7990e-02, -6.4457e-02, -3.5764e-02,\n",
      "        -5.0384e-02,  4.8024e-02,  7.0558e-02, -7.4771e-02, -5.2108e-02,\n",
      "        -7.6737e-02,  1.6165e-02, -7.7251e-02,  5.2143e-02,  5.6838e-02,\n",
      "        -4.6966e-04, -1.2306e-02, -2.1781e-02, -3.5579e-02, -6.1817e-02,\n",
      "         2.8145e-02, -2.6355e-02,  6.6420e-02, -1.9045e-03, -6.6414e-02,\n",
      "         4.4703e-02, -1.9533e-02,  9.1523e-03,  7.0297e-02, -8.3650e-02,\n",
      "         8.5397e-02, -4.0165e-02,  2.3554e-02, -8.4679e-03,  2.5769e-02,\n",
      "         8.5134e-02,  8.7700e-02,  7.1598e-02,  7.4256e-02, -5.5339e-02,\n",
      "         5.5105e-02, -5.7235e-02,  1.5300e-02,  2.7382e-02, -6.2828e-03,\n",
      "         4.3404e-02, -4.2990e-03,  2.3483e-02, -7.1597e-02, -5.2608e-02,\n",
      "        -1.6184e-02,  6.8636e-02, -8.3207e-02,  7.1054e-02,  3.4690e-02,\n",
      "        -5.4037e-03,  3.8878e-02,  6.9512e-02, -7.7503e-02,  2.1215e-03,\n",
      "         8.5735e-02,  5.7459e-02,  1.4962e-02,  5.0665e-02,  4.5144e-02,\n",
      "         3.1812e-02,  8.0195e-02,  4.3629e-02,  8.3197e-02,  6.5632e-02,\n",
      "         2.9520e-02,  1.3179e-02,  3.1058e-02, -2.0299e-03, -6.2334e-02,\n",
      "         1.6761e-02, -6.0878e-02,  5.3389e-02, -2.8794e-03, -4.5324e-02,\n",
      "        -2.6463e-02, -7.5075e-02, -2.5910e-02,  6.2661e-02, -2.0562e-02,\n",
      "        -8.1748e-03, -6.9223e-02,  7.8992e-02, -6.4349e-03,  6.5702e-03,\n",
      "         1.9079e-02,  4.9282e-02, -8.1432e-02, -7.0529e-03,  2.6557e-02,\n",
      "         7.8003e-03,  7.6703e-02,  7.5691e-02, -6.0936e-02,  1.4799e-02,\n",
      "        -1.1302e-02, -1.9868e-02, -3.0916e-02,  7.9560e-02,  8.0843e-04,\n",
      "        -7.8127e-04,  2.2035e-02,  5.2409e-03,  7.3178e-02,  2.7051e-02,\n",
      "        -3.9837e-02,  9.7302e-03,  1.2512e-02,  1.2201e-02,  1.2389e-02,\n",
      "        -1.7210e-02,  7.0581e-02,  7.1985e-02, -3.6248e-02,  5.3299e-02,\n",
      "         6.7673e-02,  2.6859e-02,  6.9050e-02, -2.9190e-02, -7.9119e-03,\n",
      "         5.5111e-02,  2.3563e-02,  3.6501e-02,  4.2338e-02, -2.3124e-03,\n",
      "         7.6263e-02,  4.1025e-02, -6.8241e-02,  1.2822e-02,  1.5269e-02,\n",
      "        -4.3398e-02,  8.6497e-02,  6.4694e-02, -8.4627e-02,  5.2231e-02,\n",
      "         6.0617e-02,  7.3958e-02, -5.5269e-02, -8.4000e-02,  7.1893e-02,\n",
      "         8.0698e-03, -3.1024e-03,  1.9478e-03, -7.9850e-02, -3.2435e-02,\n",
      "         5.9602e-02,  7.1278e-02,  7.1028e-03,  4.7160e-02,  7.4318e-02,\n",
      "        -5.4615e-02,  6.4275e-02, -6.1725e-02,  5.1756e-02,  3.4866e-02,\n",
      "        -6.4039e-02,  8.0991e-02,  2.8769e-02, -2.7888e-02,  1.6868e-02,\n",
      "         5.5602e-02,  6.1787e-02,  2.8507e-02, -5.4509e-02,  5.0158e-02,\n",
      "         8.4923e-02,  8.3416e-02, -6.3436e-02,  4.1711e-03, -6.5821e-02,\n",
      "         4.7830e-02, -1.4174e-03, -4.3816e-02,  6.1451e-02,  2.3891e-02,\n",
      "        -8.3177e-03,  4.1664e-02, -5.8004e-03,  1.5839e-02, -1.3602e-02,\n",
      "         8.0646e-02,  6.1920e-02, -8.5793e-02,  7.2680e-02,  7.3588e-03,\n",
      "         4.8503e-05,  2.4967e-02, -7.1360e-02, -8.6600e-02, -1.2611e-02,\n",
      "        -5.6113e-02, -4.8951e-02, -5.5610e-02,  7.3083e-02, -4.6232e-02,\n",
      "        -2.6925e-02,  1.0484e-02, -5.1943e-02,  1.1422e-04,  7.5351e-02,\n",
      "        -2.6653e-02, -4.8866e-02,  5.3322e-02,  4.8294e-02,  6.6156e-02,\n",
      "        -4.4323e-03,  6.8473e-02,  8.4435e-02,  4.0734e-02,  2.0952e-02,\n",
      "         5.9348e-02, -3.3543e-04,  8.2556e-02,  2.0272e-03, -8.5292e-02,\n",
      "        -7.1580e-03, -3.7689e-02,  6.1800e-02, -5.8507e-02,  8.1521e-02,\n",
      "         6.8999e-02,  4.5351e-02,  7.0968e-02, -2.3367e-02,  5.8273e-03,\n",
      "        -4.9836e-02], requires_grad=True) torch.Size([256])\n",
      "out.weight Parameter containing:\n",
      "tensor([[ 0.0559,  0.0532, -0.0279,  ...,  0.0138, -0.0004,  0.0103],\n",
      "        [-0.0309,  0.0313, -0.0010,  ...,  0.0231,  0.0482, -0.0451],\n",
      "        [ 0.0497,  0.0185,  0.0108,  ...,  0.0214, -0.0613,  0.0028],\n",
      "        ...,\n",
      "        [-0.0032, -0.0073, -0.0408,  ...,  0.0361, -0.0041, -0.0476],\n",
      "        [-0.0227,  0.0621,  0.0523,  ...,  0.0376,  0.0238,  0.0472],\n",
      "        [ 0.0059, -0.0132, -0.0295,  ..., -0.0350,  0.0569,  0.0568]],\n",
      "       requires_grad=True) torch.Size([10, 256])\n",
      "out.bias Parameter containing:\n",
      "tensor([-0.0460,  0.0374,  0.0106,  0.0380, -0.0532,  0.0180,  0.0051,  0.0268,\n",
      "         0.0261,  0.0152], requires_grad=True) torch.Size([10])\n"
     ]
    }
   ],
   "source": [
    "for name, parameter in net.named_parameters():\n",
    "    print(name, parameter,parameter.size())"
   ]
  },
  {
   "cell_type": "markdown",
   "metadata": {},
   "source": [
    "### 使用TensorDataset和DataLoader来简化"
   ]
  },
  {
   "cell_type": "code",
   "execution_count": 15,
   "metadata": {
    "collapsed": true
   },
   "outputs": [],
   "source": [
    "from torch.utils.data import TensorDataset\n",
    "from torch.utils.data import DataLoader\n",
    "\n",
    "train_ds = TensorDataset(x_train, y_train)\n",
    "train_dl = DataLoader(train_ds, batch_size=bs, shuffle=True)\n",
    "\n",
    "valid_ds = TensorDataset(x_valid, y_valid)\n",
    "valid_dl = DataLoader(valid_ds, batch_size=bs * 2)"
   ]
  },
  {
   "cell_type": "code",
   "execution_count": 16,
   "metadata": {
    "collapsed": true
   },
   "outputs": [],
   "source": [
    "def get_data(train_ds, valid_ds, bs):\n",
    "    return (\n",
    "        DataLoader(train_ds, batch_size=bs, shuffle=True),\n",
    "        DataLoader(valid_ds, batch_size=bs * 2),\n",
    "    )"
   ]
  },
  {
   "cell_type": "markdown",
   "metadata": {},
   "source": [
    "- 一般在训练模型时加上model.train()，这样会正常使用Batch Normalization和 Dropout\n",
    "- 测试的时候一般选择model.eval()，这样就不会使用Batch Normalization和 Dropout"
   ]
  },
  {
   "cell_type": "code",
   "execution_count": 17,
   "metadata": {
    "collapsed": true
   },
   "outputs": [],
   "source": [
    "import numpy as np\n",
    "\n",
    "def fit(steps, model, loss_func, opt, train_dl, valid_dl):\n",
    "    for step in range(steps):\n",
    "        model.train()\n",
    "        for xb, yb in train_dl:\n",
    "            loss_batch(model, loss_func, xb, yb, opt)\n",
    "\n",
    "        model.eval()\n",
    "        with torch.no_grad():\n",
    "            losses, nums = zip(\n",
    "                *[loss_batch(model, loss_func, xb, yb) for xb, yb in valid_dl]\n",
    "            )\n",
    "        val_loss = np.sum(np.multiply(losses, nums)) / np.sum(nums)\n",
    "        print('当前step:'+str(step), '验证集损失：'+str(val_loss))"
   ]
  },
  {
   "cell_type": "code",
   "execution_count": 18,
   "metadata": {
    "collapsed": true
   },
   "outputs": [],
   "source": [
    "from torch import optim\n",
    "def get_model():\n",
    "    model = Mnist_NN()\n",
    "    return model, optim.SGD(model.parameters(), lr=0.001)"
   ]
  },
  {
   "cell_type": "code",
   "execution_count": 19,
   "metadata": {
    "collapsed": true
   },
   "outputs": [],
   "source": [
    "def loss_batch(model, loss_func, xb, yb, opt=None):\n",
    "    loss = loss_func(model(xb), yb)\n",
    "\n",
    "    if opt is not None:\n",
    "        loss.backward()\n",
    "        opt.step()\n",
    "        opt.zero_grad()\n",
    "\n",
    "    return loss.item(), len(xb)"
   ]
  },
  {
   "cell_type": "markdown",
   "metadata": {},
   "source": [
    "### 三行搞定！"
   ]
  },
  {
   "cell_type": "code",
   "execution_count": 95,
   "metadata": {},
   "outputs": [
    {
     "name": "stdout",
     "output_type": "stream",
     "text": [
      "当前step:0 验证集损失：2.2796445930480957\n",
      "当前step:1 验证集损失：2.2440698066711424\n",
      "当前step:2 验证集损失：2.1889826164245605\n",
      "当前step:3 验证集损失：2.0985311767578123\n",
      "当前step:4 验证集损失：1.9517273582458496\n",
      "当前step:5 验证集损失：1.7341805934906005\n",
      "当前step:6 验证集损失：1.4719875366210937\n",
      "当前step:7 验证集损失：1.2273896869659424\n",
      "当前step:8 验证集损失：1.0362271406173706\n",
      "当前step:9 验证集损失：0.8963696184158325\n",
      "当前step:10 验证集损失：0.7927186088562012\n",
      "当前step:11 验证集损失：0.7141492074012756\n",
      "当前step:12 验证集损失：0.6529350900650024\n",
      "当前step:13 验证集损失：0.60417300491333\n",
      "当前step:14 验证集损失：0.5643046331882476\n",
      "当前step:15 验证集损失：0.5317994566917419\n",
      "当前step:16 验证集损失：0.5047958114624024\n",
      "当前step:17 验证集损失：0.4813900615692139\n",
      "当前step:18 验证集损失：0.4618900228500366\n",
      "当前step:19 验证集损失：0.4443243554592133\n",
      "当前step:20 验证集损失：0.4297310716629028\n",
      "当前step:21 验证集损失：0.416976597738266\n",
      "当前step:22 验证集损失：0.406348459148407\n",
      "当前step:23 验证集损失：0.3963301926612854\n",
      "当前step:24 验证集损失：0.38733808159828187\n"
     ]
    }
   ],
   "source": [
    "train_dl, valid_dl = get_data(train_ds, valid_ds, bs)\n",
    "model, opt = get_model()\n",
    "fit(25, model, loss_func, opt, train_dl, valid_dl)"
   ]
  },
  {
   "cell_type": "code",
   "execution_count": null,
   "metadata": {
    "collapsed": true
   },
   "outputs": [],
   "source": []
  }
 ],
 "metadata": {
  "kernelspec": {
   "display_name": "CNN_01",
   "language": "python",
   "name": "python3"
  },
  "language_info": {
   "codemirror_mode": {
    "name": "ipython",
    "version": 3
   },
   "file_extension": ".py",
   "mimetype": "text/x-python",
   "name": "python",
   "nbconvert_exporter": "python",
   "pygments_lexer": "ipython3",
   "version": "3.11.13"
  }
 },
 "nbformat": 4,
 "nbformat_minor": 1
}
